{
  "nbformat": 4,
  "nbformat_minor": 0,
  "metadata": {
    "colab": {
      "name": "ShotDectection.ipynb",
      "provenance": [],
      "collapsed_sections": []
    },
    "kernelspec": {
      "display_name": "Python 3",
      "name": "python3"
    }
  },
  "cells": [
    {
      "cell_type": "code",
      "metadata": {
        "id": "2xJUlrt82CRb"
      },
      "source": [
        "from sklearn.metrics import precision_recall_curve\n",
        "import cv2\n",
        "from matplotlib import pyplot as plt\n",
        "import numpy as np"
      ],
      "execution_count": 65,
      "outputs": []
    },
    {
      "cell_type": "code",
      "metadata": {
        "colab": {
          "base_uri": "https://localhost:8080/"
        },
        "id": "g6MXlpftv-oc",
        "outputId": "8ddb4ee4-0314-4770-dc19-4c208bb6a303"
      },
      "source": [
        "from google.colab import drive\n",
        "drive.mount('/content/drive')\n",
        "\n",
        "video_name = 'news'\n",
        "\n",
        "if video_name == 'ngc':\n",
        "  PATH = f'/content/drive/MyDrive/python_data/多媒體內容分析/hw1/{video_name}.mpeg'\n",
        "else:\n",
        "  PATH = f'/content/drive/MyDrive/python_data/多媒體內容分析/hw1/{video_name}.mpg'\n",
        "  \n",
        "with open(f'/content/drive/MyDrive/python_data/多媒體內容分析/hw1/{video_name}_ground.txt', 'r') as f:\n",
        "  gt = []\n",
        "  lines = [line.strip() for line in f.readlines()[4:]]\n",
        "  for line in lines:\n",
        "    if '~' in list(line):\n",
        "      st, en = line.split('~')\n",
        "      gt += list(range(int(st), int(en)+1))\n",
        "    else:\n",
        "      gt.append(int(line))\n",
        "  print(gt)"
      ],
      "execution_count": 66,
      "outputs": [
        {
          "output_type": "stream",
          "text": [
            "Drive already mounted at /content/drive; to attempt to forcibly remount, call drive.mount(\"/content/drive\", force_remount=True).\n",
            "[73, 235, 301, 370, 452, 861, 1281]\n"
          ],
          "name": "stdout"
        }
      ]
    },
    {
      "cell_type": "markdown",
      "metadata": {
        "id": "b-KNt2Py_4FW"
      },
      "source": [
        "# PR CURVE"
      ]
    },
    {
      "cell_type": "code",
      "metadata": {
        "id": "QLsU9uhn0yA7"
      },
      "source": [
        "def pr_curve(preds, gt):\n",
        "  count= 0\n",
        "\n",
        "  for f_idx in preds:\n",
        "    if f_idx in gt:\n",
        "      count += 1\n",
        "  # print(f'precision: {round(count/len(preds),2)}')\n",
        "  precision = round(count/len(preds),2)\n",
        "\n",
        "  count= 0\n",
        "  for f_idx in gt:\n",
        "    if f_idx in preds:\n",
        "      count += 1\n",
        "  # print(f'recall: {round(count/len(gt),2)}')\n",
        "  recall = round(count/len(gt),2)\n",
        "\n",
        "  return precision, recall"
      ],
      "execution_count": 67,
      "outputs": []
    },
    {
      "cell_type": "markdown",
      "metadata": {
        "id": "Mkq3OhTDn-11"
      },
      "source": [
        "# Edge Change Ratio"
      ]
    },
    {
      "cell_type": "code",
      "metadata": {
        "id": "u0EvbciQoBOV"
      },
      "source": [
        "def ECR(frame, prev_frame, width, height, crop=True, dilate_rate = 5):\n",
        "    safe_div = lambda x,y: 0 if y == 0 else x / y\n",
        "    if crop:\n",
        "        startY = int(height * 0.3)\n",
        "        endY = int(height * 0.8)\n",
        "        startX = int(width * 0.3)\n",
        "        endX = int(width * 0.8)\n",
        "        frame = frame[startY:endY, startX:endX]\n",
        "        prev_frame = prev_frame[startY:endY, startX:endX]\n",
        "\n",
        "    gray_image = cv2.cvtColor(frame, cv2.COLOR_BGR2GRAY)\n",
        "    edge = cv2.Canny(gray_image, 0, 200)\n",
        "    dilated = cv2.dilate(edge, np.ones((dilate_rate, dilate_rate)))\n",
        "    inverted = (255 - dilated)\n",
        "    gray_image2 = cv2.cvtColor(prev_frame, cv2.COLOR_BGR2GRAY)\n",
        "    edge2 = cv2.Canny(gray_image2, 0, 200)\n",
        "    dilated2 = cv2.dilate(edge2, np.ones((dilate_rate, dilate_rate)))\n",
        "    inverted2 = (255 - dilated2)\n",
        "    log_and1 = (edge2 & inverted)\n",
        "    log_and2 = (edge & inverted2)\n",
        "    pixels_sum_new = np.sum(edge)\n",
        "    pixels_sum_old = np.sum(edge2)\n",
        "    out_pixels = np.sum(log_and1)\n",
        "    in_pixels = np.sum(log_and2)\n",
        "    return max(safe_div(float(in_pixels),float(pixels_sum_new)), safe_div(float(out_pixels),float(pixels_sum_old)))"
      ],
      "execution_count": 68,
      "outputs": []
    },
    {
      "cell_type": "code",
      "metadata": {
        "id": "BiD3PL03oIba"
      },
      "source": [
        "ECR_list = []\n",
        "\n",
        "video = cv2.VideoCapture(PATH)\n",
        "width = video.get(cv2.CAP_PROP_FRAME_WIDTH)\n",
        "height = video.get(cv2.CAP_PROP_FRAME_WIDTH)\n",
        "video.set(3, width)\n",
        "video.set(4, height)\n",
        "prev_frame = None\n",
        "while True:\n",
        "    ret, frame = video.read()\n",
        "    if frame is None:\n",
        "        break\n",
        "    if prev_frame is not None:\n",
        "        ECR_list.append(ECR(frame, prev_frame, width, height))\n",
        "    prev_frame = frame\n",
        "video.release()"
      ],
      "execution_count": 69,
      "outputs": []
    },
    {
      "cell_type": "code",
      "metadata": {
        "colab": {
          "base_uri": "https://localhost:8080/",
          "height": 501
        },
        "id": "UjXmue0QpP5H",
        "outputId": "4f998365-d2cd-494c-beaa-cd64ab9820dc"
      },
      "source": [
        "fig = plt.figure(figsize= (12,8))\n",
        "plt.plot(ECR_list)"
      ],
      "execution_count": 70,
      "outputs": [
        {
          "output_type": "execute_result",
          "data": {
            "text/plain": [
              "[<matplotlib.lines.Line2D at 0x7fb26100d610>]"
            ]
          },
          "metadata": {
            "tags": []
          },
          "execution_count": 70
        },
        {
          "output_type": "display_data",
          "data": {
            "image/png": "[encoded data removed]",
            "text/plain": [
              "<Figure size 864x576 with 1 Axes>"
            ]
          },
          "metadata": {
            "tags": [],
            "needs_background": "light"
          }
        }
      ]
    },
    {
      "cell_type": "code",
      "metadata": {
        "colab": {
          "base_uri": "https://localhost:8080/",
          "height": 295
        },
        "id": "Y5b19gBIqwTB",
        "outputId": "687c5680-8b4c-4dcd-aa44-1fcc1ace60e0"
      },
      "source": [
        "ps = []\n",
        "rs = []\n",
        "for threshold in range(1, 30):\n",
        "  preds = [i+1 for i, f in enumerate(ECR_list) if f>threshold*0.01]\n",
        "  precision, recall = pr_curve(preds, gt)\n",
        "  ps.append(precision)\n",
        "  rs.append(recall)\n",
        "plt.plot(rs, ps)\n",
        "plt.xlabel('Recall')\n",
        "plt.ylabel('Precision')\n",
        "plt.title(f'PR Curve for {video_name} video with ECR')\n",
        "plt.savefig(f'{video_name}_ECR.jpeg')"
      ],
      "execution_count": 71,
      "outputs": [
        {
          "output_type": "display_data",
          "data": {
            "image/png": "[encoded data removed]",
            "text/plain": [
              "<Figure size 432x288 with 1 Axes>"
            ]
          },
          "metadata": {
            "tags": [],
            "needs_background": "light"
          }
        }
      ]
    },
    {
      "cell_type": "markdown",
      "metadata": {
        "id": "_-Yakueevgla"
      },
      "source": [
        "# Twin Comparison"
      ]
    },
    {
      "cell_type": "code",
      "metadata": {
        "id": "dSzrsnoiuAtD"
      },
      "source": [
        "class Frame:\n",
        "    SD=-1\n",
        "    hist = []\n",
        "    index = -1\n",
        "    img = None\n",
        "    isCut= False"
      ],
      "execution_count": 72,
      "outputs": []
    },
    {
      "cell_type": "code",
      "metadata": {
        "id": "TtP41onkw9EB"
      },
      "source": [
        "class TwinComparionDetect():\n",
        "  def __init__(self, Tb= 60000, Ts= 20000):\n",
        "    self.Tb = Tb  # 较高的阈值\n",
        "    self.Ts = Ts  # 较低的阈值\n",
        "    self.Fs = -1  # 渐变开始的下标\n",
        "    self.Fe = -1  # 渐变结束的下标\n",
        "    self.isbegin = False\n",
        "    self.myFrames = []\n",
        "    self.step = 30\n",
        "    self.list_sd = []\n",
        "    self.num = 0\n",
        "\n",
        "  def ColorHistTwinComparisonDetect(self, VideoPATH):\n",
        "\n",
        "      cap = cv2.VideoCapture(VideoPATH)  # 提取视频\n",
        "      index = -1\n",
        "      # plt.figure()\n",
        "      # plt.title(\"Flattened Color Histogram\")\n",
        "      # plt.xlabel(\"Bins\")\n",
        "      # plt.ylabel(\"# of Pixels\")\n",
        "\n",
        "      while (cap.isOpened()):\n",
        "\n",
        "          ret, frame = cap.read()\n",
        "          if ret == False:\n",
        "              break\n",
        "          index += 1\n",
        "          if index>= 3563:\n",
        "              break\n",
        "\n",
        "          img = frame\n",
        "          temp_frame = Frame()\n",
        "          temp_frame.index = index\n",
        "          temp_frame.img = img.copy()\n",
        "          self.myFrames.append(temp_frame)\n",
        "\n",
        "          img = cv2.GaussianBlur(img, (9, 9), 0.0)  # 做高斯模糊\n",
        "          img= cv2.cvtColor(img, cv2.COLOR_BGR2HSV)\n",
        "          h, s,v = cv2.split(img)\n",
        "          hist_h = cv2.calcHist([h], [0], None, [256], [0, 256])  # 计算直方图\n",
        "          hist_s = cv2.calcHist([s], [0], None, [256], [0, 256])  # 计算直方图\n",
        "          hist_v = cv2.calcHist([v], [0], None, [256], [0, 256])  # 计算直方图\n",
        "          weight= [0.5,0.3,0.2]\n",
        "          hist = weight[0] * hist_h + weight[1] * hist_s + weight[2] * hist_v\n",
        "\n",
        "          # plt.plot(hist)\n",
        "          # plt.xlim([0, 256])\n",
        "\n",
        "          temp_frame.hist = hist\n",
        "\n",
        "          if len(self.myFrames) >= 2:\n",
        "              sd = 0\n",
        "              last_Frame = self.myFrames[len(self.myFrames) - 2]\n",
        "              last_hist = last_Frame.hist\n",
        "\n",
        "              for i in range(0, 256):\n",
        "                  sd += abs(hist[i]-last_hist[i])\n",
        "\n",
        "              last_Frame.SD = sd\n",
        "              self.list_sd.append(sd)\n",
        "              # print(index, sd)\n",
        "\n",
        "              if sd >= self.Tb: # 帧间差大于Tb, 是突变\n",
        "                  self.num += 1\n",
        "                  last_Frame.isCut = True\n",
        "                  self.isbegin=False\n",
        "              elif sd >= self.Ts:# 帧间差大于Ts，小于Tb，是可能的渐变起点\n",
        "                  self.Fs = last_Frame.index\n",
        "                  self.isbegin = True  # 进入渐变过程\n",
        "                  # print(\"Fs\", Fs)\n",
        "              elif sd < self.Ts:\n",
        "                  if self.isbegin == True: # 如果处于渐变过程\n",
        "                      diffsd= 0\n",
        "                      for i in range(0, 256): # 累积差\n",
        "                          diffsd += abs(last_Frame.hist[i] - self.myFrames[self.Fs].hist[i])\n",
        "                      if diffsd>= self.Tb: # 累积差超过Tb，算作渐变结束点\n",
        "                          self.Fe = last_Frame.index\n",
        "                          last_Frame.isCut= True\n",
        "                          self.isbegin= False\n",
        "                          # print(\"Fe\", self.Fe)\n",
        "                      elif last_Frame.index - self.Fs > self.step: # 帧间差小于Ts，累积差小于Tb，步长超过渐变的范围，放弃渐变开始点\n",
        "                          self.isbegin = False\n",
        "\n",
        "      cap.release()\n",
        "      # plt.show()\n",
        "\n",
        "      print(f'avg sd: {np.average(self.list_sd)}')\n",
        "      print(f'max sd: {np.max(self.list_sd)}')\n",
        "      print(self.num)\n",
        "\n",
        "      detected_frames = []\n",
        "\n",
        "      for i in range (0,len(self.myFrames)-1):\n",
        "          if self.myFrames[i].isCut==True:\n",
        "            detected_frames.append(self.myFrames[i].index)\n",
        "            # print(f'detected frame: {self.myFrames[i].index}')\n",
        "            # cv2.imwrite(result_path+\"/\" + str(myFrames[i].index) + \".png\", myFrames[i].img)\n",
        "      \n",
        "      return detected_frames"
      ],
      "execution_count": 73,
      "outputs": []
    },
    {
      "cell_type": "code",
      "metadata": {
        "colab": {
          "base_uri": "https://localhost:8080/"
        },
        "id": "9Ih_FFHNrXg7",
        "outputId": "4fbefd49-2e4a-4f1f-dba0-2afa267153fb"
      },
      "source": [
        "detector = TwinComparionDetect()\n",
        "preds = detector.ColorHistTwinComparisonDetect(PATH)"
      ],
      "execution_count": 74,
      "outputs": [
        {
          "output_type": "stream",
          "text": [
            "avg sd: 4243.09912109375\n",
            "max sd: 84637.0\n",
            "2\n"
          ],
          "name": "stdout"
        }
      ]
    },
    {
      "cell_type": "markdown",
      "metadata": {
        "id": "6_6Je5TPCmbQ"
      },
      "source": [
        "## test"
      ]
    },
    {
      "cell_type": "code",
      "metadata": {
        "colab": {
          "base_uri": "https://localhost:8080/",
          "height": 454
        },
        "id": "14WK7cVyCoP5",
        "outputId": "27e3ead5-f55c-4086-9f25-7b3d893ec486"
      },
      "source": [
        "precisions = [] \n",
        "recalls = []\n",
        "\n",
        "# for Tb in [75000, 70000, 65000, 60000]:\n",
        "for Tb in [10000, 20000, 30000]:\n",
        "  for Ts in [5000]:\n",
        "    detector = TwinComparionDetect(Tb= Tb, Ts= Ts)\n",
        "    preds = detector.ColorHistTwinComparisonDetect(PATH)\n",
        "    precision, recall = pr_curve(preds, gt)\n",
        "    precisions.append(precision)\n",
        "    recalls.append(recall)\n",
        "    # print(f'p: {precision}')\n",
        "\n",
        "plt.plot(recalls, precisions)\n",
        "plt.xlabel('Recall')\n",
        "plt.ylabel('Precision')\n",
        "plt.title(f'PR Curve for {video_name} video with Twin Comparison')\n",
        "plt.savefig(f'{video_name}_Twin')"
      ],
      "execution_count": 85,
      "outputs": [
        {
          "output_type": "stream",
          "text": [
            "avg sd: 4243.09912109375\n",
            "max sd: 84637.0\n",
            "87\n",
            "avg sd: 4243.09912109375\n",
            "max sd: 84637.0\n",
            "9\n",
            "avg sd: 4243.09912109375\n",
            "max sd: 84637.0\n",
            "7\n"
          ],
          "name": "stdout"
        },
        {
          "output_type": "display_data",
          "data": {
            "image/png": "[encoded data removed]",
            "text/plain": [
              "<Figure size 432x288 with 1 Axes>"
            ]
          },
          "metadata": {
            "tags": [],
            "needs_background": "light"
          }
        }
      ]
    },
    {
      "cell_type": "markdown",
      "metadata": {
        "id": "0HsvJSw-L_hr"
      },
      "source": [
        "# TransNet 2"
      ]
    },
    {
      "cell_type": "code",
      "metadata": {
        "id": "vmKagAFUGi5q"
      },
      "source": [
        "# !pip install tensorflow==2.1"
      ],
      "execution_count": 76,
      "outputs": []
    },
    {
      "cell_type": "markdown",
      "metadata": {
        "id": "KvAOyPCsPtPj"
      },
      "source": [
        "## Model"
      ]
    },
    {
      "cell_type": "code",
      "metadata": {
        "colab": {
          "base_uri": "https://localhost:8080/"
        },
        "id": "0VDt4bbX-c4p",
        "outputId": "4718a6bc-26f1-449a-aeec-3dd877d89ed2"
      },
      "source": [
        "!pip install ffmpeg-python"
      ],
      "execution_count": 77,
      "outputs": [
        {
          "output_type": "stream",
          "text": [
            "Requirement already satisfied: ffmpeg-python in /usr/local/lib/python3.7/dist-packages (0.2.0)\n",
            "Requirement already satisfied: future in /usr/local/lib/python3.7/dist-packages (from ffmpeg-python) (0.16.0)\n"
          ],
          "name": "stdout"
        }
      ]
    },
    {
      "cell_type": "code",
      "metadata": {
        "id": "l2zBh6LjPsro"
      },
      "source": [
        "import os\n",
        "import numpy as np\n",
        "import tensorflow as tf\n",
        "\n",
        "\n",
        "class TransNetV2:\n",
        "\n",
        "    def __init__(self, model_dir=None):\n",
        "        if model_dir is None:\n",
        "            model_dir = os.path.join(os.path.dirname(__file__), \"transnetv2-weights/\")\n",
        "            if not os.path.isdir(model_dir):\n",
        "                raise FileNotFoundError(f\"[TransNetV2] ERROR: {model_dir} is not a directory.\")\n",
        "            else:\n",
        "                print(f\"[TransNetV2] Using weights from {model_dir}.\")\n",
        "\n",
        "        self._input_size = (27, 48, 3)\n",
        "        try:\n",
        "            self._model = tf.saved_model.load(model_dir)\n",
        "        except OSError as exc:\n",
        "            raise IOError(f\"[TransNetV2] It seems that files in {model_dir} are corrupted or missing. \"\n",
        "                          f\"Re-download them manually and retry. For more info, see: \"\n",
        "                          f\"https://github.com/soCzech/TransNetV2/issues/1#issuecomment-647357796\") from exc\n",
        "\n",
        "    def predict_raw(self, frames: np.ndarray):\n",
        "        assert len(frames.shape) == 5 and frames.shape[2:] == self._input_size, \\\n",
        "            \"[TransNetV2] Input shape must be [batch, frames, height, width, 3].\"\n",
        "        frames = tf.cast(frames, tf.float32)\n",
        "\n",
        "        logits, dict_ = self._model(frames)\n",
        "        single_frame_pred = tf.sigmoid(logits)\n",
        "        all_frames_pred = tf.sigmoid(dict_[\"many_hot\"])\n",
        "\n",
        "        return single_frame_pred, all_frames_pred\n",
        "\n",
        "    def predict_frames(self, frames: np.ndarray):\n",
        "        assert len(frames.shape) == 4 and frames.shape[1:] == self._input_size, \\\n",
        "            \"[TransNetV2] Input shape must be [frames, height, width, 3].\"\n",
        "\n",
        "        def input_iterator():\n",
        "            # return windows of size 100 where the first/last 25 frames are from the previous/next batch\n",
        "            # the first and last window must be padded by copies of the first and last frame of the video\n",
        "            no_padded_frames_start = 25\n",
        "            no_padded_frames_end = 25 + 50 - (len(frames) % 50 if len(frames) % 50 != 0 else 50)  # 25 - 74\n",
        "\n",
        "            start_frame = np.expand_dims(frames[0], 0)\n",
        "            end_frame = np.expand_dims(frames[-1], 0)\n",
        "            padded_inputs = np.concatenate(\n",
        "                [start_frame] * no_padded_frames_start + [frames] + [end_frame] * no_padded_frames_end, 0\n",
        "            )\n",
        "\n",
        "            ptr = 0\n",
        "            while ptr + 100 <= len(padded_inputs):\n",
        "                out = padded_inputs[ptr:ptr + 100]\n",
        "                ptr += 50\n",
        "                yield out[np.newaxis]\n",
        "\n",
        "        predictions = []\n",
        "\n",
        "        for inp in input_iterator():\n",
        "            single_frame_pred, all_frames_pred = self.predict_raw(inp)\n",
        "            predictions.append((single_frame_pred.numpy()[0, 25:75, 0],\n",
        "                                all_frames_pred.numpy()[0, 25:75, 0]))\n",
        "\n",
        "            print(\"\\r[TransNetV2] Processing video frames {}/{}\".format(\n",
        "                min(len(predictions) * 50, len(frames)), len(frames)\n",
        "            ), end=\"\")\n",
        "        print(\"\")\n",
        "\n",
        "        single_frame_pred = np.concatenate([single_ for single_, all_ in predictions])\n",
        "        all_frames_pred = np.concatenate([all_ for single_, all_ in predictions])\n",
        "\n",
        "        return single_frame_pred[:len(frames)], all_frames_pred[:len(frames)]  # remove extra padded frames\n",
        "\n",
        "    def predict_video(self, video_fn: str):\n",
        "        try:\n",
        "            import ffmpeg\n",
        "        except ModuleNotFoundError:\n",
        "            raise ModuleNotFoundError(\"For `predict_video` function `ffmpeg` needs to be installed in order to extract \"\n",
        "                                      \"individual frames from video file. Install `ffmpeg` command line tool and then \"\n",
        "                                      \"install python wrapper by `pip install ffmpeg-python`.\")\n",
        "\n",
        "        print(\"[TransNetV2] Extracting frames from {}\".format(video_fn))\n",
        "        video_stream, err = ffmpeg.input(video_fn).output(\n",
        "            \"pipe:\", format=\"rawvideo\", pix_fmt=\"rgb24\", s=\"48x27\"\n",
        "        ).run(capture_stdout=True, capture_stderr=True)\n",
        "\n",
        "        video = np.frombuffer(video_stream, np.uint8).reshape([-1, 27, 48, 3])\n",
        "        return (video, *self.predict_frames(video))\n",
        "\n",
        "    @staticmethod\n",
        "    def predictions_to_scenes(predictions: np.ndarray, threshold: float = 0.5):\n",
        "        predictions = (predictions > threshold).astype(np.uint8)\n",
        "\n",
        "        scenes = []\n",
        "        t, t_prev, start = -1, 0, 0\n",
        "        for i, t in enumerate(predictions):\n",
        "            if t_prev == 1 and t == 0:\n",
        "                start = i\n",
        "            if t_prev == 0 and t == 1 and i != 0:\n",
        "                scenes.append([start, i])\n",
        "            t_prev = t\n",
        "        if t == 0:\n",
        "            scenes.append([start, i])\n",
        "\n",
        "        # just fix if all predictions are 1\n",
        "        if len(scenes) == 0:\n",
        "            return np.array([[0, len(predictions) - 1]], dtype=np.int32)\n",
        "\n",
        "        return np.array(scenes, dtype=np.int32)\n",
        "\n",
        "    @staticmethod\n",
        "    def visualize_predictions(frames: np.ndarray, predictions):\n",
        "        from PIL import Image, ImageDraw\n",
        "\n",
        "        if isinstance(predictions, np.ndarray):\n",
        "            predictions = [predictions]\n",
        "\n",
        "        ih, iw, ic = frames.shape[1:]\n",
        "        width = 25\n",
        "\n",
        "        # pad frames so that length of the video is divisible by width\n",
        "        # pad frames also by len(predictions) pixels in width in order to show predictions\n",
        "        pad_with = width - len(frames) % width if len(frames) % width != 0 else 0\n",
        "        frames = np.pad(frames, [(0, pad_with), (0, 1), (0, len(predictions)), (0, 0)])\n",
        "\n",
        "        predictions = [np.pad(x, (0, pad_with)) for x in predictions]\n",
        "        height = len(frames) // width\n",
        "\n",
        "        img = frames.reshape([height, width, ih + 1, iw + len(predictions), ic])\n",
        "        img = np.concatenate(np.split(\n",
        "            np.concatenate(np.split(img, height), axis=2)[0], width\n",
        "        ), axis=2)[0, :-1]\n",
        "\n",
        "        img = Image.fromarray(img)\n",
        "        draw = ImageDraw.Draw(img)\n",
        "\n",
        "        # iterate over all frames\n",
        "        for i, pred in enumerate(zip(*predictions)):\n",
        "            x, y = i % width, i // width\n",
        "            x, y = x * (iw + len(predictions)) + iw, y * (ih + 1) + ih - 1\n",
        "\n",
        "            # we can visualize multiple predictions per single frame\n",
        "            for j, p in enumerate(pred):\n",
        "                color = [0, 0, 0]\n",
        "                color[(j + 1) % 3] = 255\n",
        "\n",
        "                value = round(p * (ih - 1))\n",
        "                if value != 0:\n",
        "                    draw.line((x + j, y, x + j, y - value), fill=tuple(color), width=1)\n",
        "        return img\n",
        "\n",
        "\n",
        "def main():\n",
        "    import sys\n",
        "    import argparse\n",
        "\n",
        "    parser = argparse.ArgumentParser()\n",
        "    parser.add_argument(\"files\", type=str, nargs=\"+\", help=\"path to video files to process\")\n",
        "    parser.add_argument(\"--weights\", type=str, default=None,\n",
        "                        help=\"path to TransNet V2 weights, tries to infer the location if not specified\")\n",
        "    parser.add_argument('--visualize', action=\"store_true\",\n",
        "                        help=\"save a png file with prediction visualization for each extracted video\")\n",
        "    args = parser.parse_args()\n",
        "\n",
        "    model = TransNetV2(args.weights)\n",
        "    for file in args.files:\n",
        "        if os.path.exists(file + \".predictions.txt\") or os.path.exists(file + \".scenes.txt\"):\n",
        "            print(f\"[TransNetV2] {file}.predictions.txt or {file}.scenes.txt already exists. \"\n",
        "                  f\"Skipping video {file}.\", file=sys.stderr)\n",
        "            continue\n",
        "\n",
        "        video_frames, single_frame_predictions, all_frame_predictions = \\\n",
        "            model.predict_video(file)\n",
        "\n",
        "        predictions = np.stack([single_frame_predictions, all_frame_predictions], 1)\n",
        "        np.savetxt(file + \".predictions.txt\", predictions, fmt=\"%.6f\")\n",
        "\n",
        "        scenes = model.predictions_to_scenes(single_frame_predictions)\n",
        "        np.savetxt(file + \".scenes.txt\", scenes, fmt=\"%d\")\n",
        "\n",
        "        if args.visualize:\n",
        "            if os.path.exists(file + \".vis.png\"):\n",
        "                print(f\"[TransNetV2] {file}.vis.png already exists. \"\n",
        "                      f\"Skipping visualization of video {file}.\", file=sys.stderr)\n",
        "                continue\n",
        "\n",
        "            pil_image = model.visualize_predictions(\n",
        "                video_frames, predictions=(single_frame_predictions, all_frame_predictions))\n",
        "            pil_image.save(file + \".vis.png\")\n",
        "\n",
        "\n",
        "# if __name__ == \"__main__\":\n",
        "#     main()"
      ],
      "execution_count": 78,
      "outputs": []
    },
    {
      "cell_type": "markdown",
      "metadata": {
        "id": "Mzq8pQEFAcTG"
      },
      "source": [
        "## Prediction"
      ]
    },
    {
      "cell_type": "code",
      "metadata": {
        "colab": {
          "base_uri": "https://localhost:8080/",
          "height": 386
        },
        "id": "0wvxvSyuL_7e",
        "outputId": "235f08c0-888a-4c31-d5cc-e5642418f7cc"
      },
      "source": [
        "# location of learned weights is automatically inferred\n",
        "# add argument model_dir=\"/path/to/transnetv2-weights/\" to TransNetV2() if it fails\n",
        "model = TransNetV2(model_dir= '/content/drive/MyDrive/python_data/多媒體內容分析/hw1/transnetv2-weights')\n",
        "video_frames, single_frame_predictions, all_frame_predictions = model.predict_video(PATH)"
      ],
      "execution_count": 79,
      "outputs": [
        {
          "output_type": "stream",
          "text": [
            "[TransNetV2] Extracting frames from /content/drive/MyDrive/python_data/多媒體內容分析/hw1/news.mpg\n",
            "[TransNetV2] Processing video frames 100/1380"
          ],
          "name": "stdout"
        },
        {
          "output_type": "error",
          "ename": "KeyboardInterrupt",
          "evalue": "ignored",
          "traceback": [
            "\u001b[0;31m---------------------------------------------------------------------------\u001b[0m",
            "\u001b[0;31mKeyboardInterrupt\u001b[0m                         Traceback (most recent call last)",
            "\u001b[0;32m<ipython-input-79-7d3b7127d823>\u001b[0m in \u001b[0;36m<module>\u001b[0;34m()\u001b[0m\n\u001b[1;32m      2\u001b[0m \u001b[0;31m# add argument model_dir=\"/path/to/transnetv2-weights/\" to TransNetV2() if it fails\u001b[0m\u001b[0;34m\u001b[0m\u001b[0;34m\u001b[0m\u001b[0;34m\u001b[0m\u001b[0m\n\u001b[1;32m      3\u001b[0m \u001b[0mmodel\u001b[0m \u001b[0;34m=\u001b[0m \u001b[0mTransNetV2\u001b[0m\u001b[0;34m(\u001b[0m\u001b[0mmodel_dir\u001b[0m\u001b[0;34m=\u001b[0m \u001b[0;34m'/content/drive/MyDrive/python_data/多媒體內容分析/hw1/transnetv2-weights'\u001b[0m\u001b[0;34m)\u001b[0m\u001b[0;34m\u001b[0m\u001b[0;34m\u001b[0m\u001b[0m\n\u001b[0;32m----> 4\u001b[0;31m \u001b[0mvideo_frames\u001b[0m\u001b[0;34m,\u001b[0m \u001b[0msingle_frame_predictions\u001b[0m\u001b[0;34m,\u001b[0m \u001b[0mall_frame_predictions\u001b[0m \u001b[0;34m=\u001b[0m \u001b[0mmodel\u001b[0m\u001b[0;34m.\u001b[0m\u001b[0mpredict_video\u001b[0m\u001b[0;34m(\u001b[0m\u001b[0mPATH\u001b[0m\u001b[0;34m)\u001b[0m\u001b[0;34m\u001b[0m\u001b[0;34m\u001b[0m\u001b[0m\n\u001b[0m",
            "\u001b[0;32m<ipython-input-78-63dd05825b22>\u001b[0m in \u001b[0;36mpredict_video\u001b[0;34m(self, video_fn)\u001b[0m\n\u001b[1;32m     84\u001b[0m \u001b[0;34m\u001b[0m\u001b[0m\n\u001b[1;32m     85\u001b[0m         \u001b[0mvideo\u001b[0m \u001b[0;34m=\u001b[0m \u001b[0mnp\u001b[0m\u001b[0;34m.\u001b[0m\u001b[0mfrombuffer\u001b[0m\u001b[0;34m(\u001b[0m\u001b[0mvideo_stream\u001b[0m\u001b[0;34m,\u001b[0m \u001b[0mnp\u001b[0m\u001b[0;34m.\u001b[0m\u001b[0muint8\u001b[0m\u001b[0;34m)\u001b[0m\u001b[0;34m.\u001b[0m\u001b[0mreshape\u001b[0m\u001b[0;34m(\u001b[0m\u001b[0;34m[\u001b[0m\u001b[0;34m-\u001b[0m\u001b[0;36m1\u001b[0m\u001b[0;34m,\u001b[0m \u001b[0;36m27\u001b[0m\u001b[0;34m,\u001b[0m \u001b[0;36m48\u001b[0m\u001b[0;34m,\u001b[0m \u001b[0;36m3\u001b[0m\u001b[0;34m]\u001b[0m\u001b[0;34m)\u001b[0m\u001b[0;34m\u001b[0m\u001b[0;34m\u001b[0m\u001b[0m\n\u001b[0;32m---> 86\u001b[0;31m         \u001b[0;32mreturn\u001b[0m \u001b[0;34m(\u001b[0m\u001b[0mvideo\u001b[0m\u001b[0;34m,\u001b[0m \u001b[0;34m*\u001b[0m\u001b[0mself\u001b[0m\u001b[0;34m.\u001b[0m\u001b[0mpredict_frames\u001b[0m\u001b[0;34m(\u001b[0m\u001b[0mvideo\u001b[0m\u001b[0;34m)\u001b[0m\u001b[0;34m)\u001b[0m\u001b[0;34m\u001b[0m\u001b[0;34m\u001b[0m\u001b[0m\n\u001b[0m\u001b[1;32m     87\u001b[0m \u001b[0;34m\u001b[0m\u001b[0m\n\u001b[1;32m     88\u001b[0m     \u001b[0;34m@\u001b[0m\u001b[0mstaticmethod\u001b[0m\u001b[0;34m\u001b[0m\u001b[0;34m\u001b[0m\u001b[0m\n",
            "\u001b[0;32m<ipython-input-78-63dd05825b22>\u001b[0m in \u001b[0;36mpredict_frames\u001b[0;34m(self, frames)\u001b[0m\n\u001b[1;32m     56\u001b[0m \u001b[0;34m\u001b[0m\u001b[0m\n\u001b[1;32m     57\u001b[0m         \u001b[0;32mfor\u001b[0m \u001b[0minp\u001b[0m \u001b[0;32min\u001b[0m \u001b[0minput_iterator\u001b[0m\u001b[0;34m(\u001b[0m\u001b[0;34m)\u001b[0m\u001b[0;34m:\u001b[0m\u001b[0;34m\u001b[0m\u001b[0;34m\u001b[0m\u001b[0m\n\u001b[0;32m---> 58\u001b[0;31m             \u001b[0msingle_frame_pred\u001b[0m\u001b[0;34m,\u001b[0m \u001b[0mall_frames_pred\u001b[0m \u001b[0;34m=\u001b[0m \u001b[0mself\u001b[0m\u001b[0;34m.\u001b[0m\u001b[0mpredict_raw\u001b[0m\u001b[0;34m(\u001b[0m\u001b[0minp\u001b[0m\u001b[0;34m)\u001b[0m\u001b[0;34m\u001b[0m\u001b[0;34m\u001b[0m\u001b[0m\n\u001b[0m\u001b[1;32m     59\u001b[0m             predictions.append((single_frame_pred.numpy()[0, 25:75, 0],\n\u001b[1;32m     60\u001b[0m                                 all_frames_pred.numpy()[0, 25:75, 0]))\n",
            "\u001b[0;32m<ipython-input-78-63dd05825b22>\u001b[0m in \u001b[0;36mpredict_raw\u001b[0;34m(self, frames)\u001b[0m\n\u001b[1;32m     26\u001b[0m         \u001b[0mframes\u001b[0m \u001b[0;34m=\u001b[0m \u001b[0mtf\u001b[0m\u001b[0;34m.\u001b[0m\u001b[0mcast\u001b[0m\u001b[0;34m(\u001b[0m\u001b[0mframes\u001b[0m\u001b[0;34m,\u001b[0m \u001b[0mtf\u001b[0m\u001b[0;34m.\u001b[0m\u001b[0mfloat32\u001b[0m\u001b[0;34m)\u001b[0m\u001b[0;34m\u001b[0m\u001b[0;34m\u001b[0m\u001b[0m\n\u001b[1;32m     27\u001b[0m \u001b[0;34m\u001b[0m\u001b[0m\n\u001b[0;32m---> 28\u001b[0;31m         \u001b[0mlogits\u001b[0m\u001b[0;34m,\u001b[0m \u001b[0mdict_\u001b[0m \u001b[0;34m=\u001b[0m \u001b[0mself\u001b[0m\u001b[0;34m.\u001b[0m\u001b[0m_model\u001b[0m\u001b[0;34m(\u001b[0m\u001b[0mframes\u001b[0m\u001b[0;34m)\u001b[0m\u001b[0;34m\u001b[0m\u001b[0;34m\u001b[0m\u001b[0m\n\u001b[0m\u001b[1;32m     29\u001b[0m         \u001b[0msingle_frame_pred\u001b[0m \u001b[0;34m=\u001b[0m \u001b[0mtf\u001b[0m\u001b[0;34m.\u001b[0m\u001b[0msigmoid\u001b[0m\u001b[0;34m(\u001b[0m\u001b[0mlogits\u001b[0m\u001b[0;34m)\u001b[0m\u001b[0;34m\u001b[0m\u001b[0;34m\u001b[0m\u001b[0m\n\u001b[1;32m     30\u001b[0m         \u001b[0mall_frames_pred\u001b[0m \u001b[0;34m=\u001b[0m \u001b[0mtf\u001b[0m\u001b[0;34m.\u001b[0m\u001b[0msigmoid\u001b[0m\u001b[0;34m(\u001b[0m\u001b[0mdict_\u001b[0m\u001b[0;34m[\u001b[0m\u001b[0;34m\"many_hot\"\u001b[0m\u001b[0;34m]\u001b[0m\u001b[0;34m)\u001b[0m\u001b[0;34m\u001b[0m\u001b[0;34m\u001b[0m\u001b[0m\n",
            "\u001b[0;32m/usr/local/lib/python3.7/dist-packages/tensorflow/python/saved_model/load.py\u001b[0m in \u001b[0;36m_call_attribute\u001b[0;34m(instance, *args, **kwargs)\u001b[0m\n\u001b[1;32m    666\u001b[0m \u001b[0;34m\u001b[0m\u001b[0m\n\u001b[1;32m    667\u001b[0m \u001b[0;32mdef\u001b[0m \u001b[0m_call_attribute\u001b[0m\u001b[0;34m(\u001b[0m\u001b[0minstance\u001b[0m\u001b[0;34m,\u001b[0m \u001b[0;34m*\u001b[0m\u001b[0margs\u001b[0m\u001b[0;34m,\u001b[0m \u001b[0;34m**\u001b[0m\u001b[0mkwargs\u001b[0m\u001b[0;34m)\u001b[0m\u001b[0;34m:\u001b[0m\u001b[0;34m\u001b[0m\u001b[0;34m\u001b[0m\u001b[0m\n\u001b[0;32m--> 668\u001b[0;31m   \u001b[0;32mreturn\u001b[0m \u001b[0minstance\u001b[0m\u001b[0;34m.\u001b[0m\u001b[0m__call__\u001b[0m\u001b[0;34m(\u001b[0m\u001b[0;34m*\u001b[0m\u001b[0margs\u001b[0m\u001b[0;34m,\u001b[0m \u001b[0;34m**\u001b[0m\u001b[0mkwargs\u001b[0m\u001b[0;34m)\u001b[0m\u001b[0;34m\u001b[0m\u001b[0;34m\u001b[0m\u001b[0m\n\u001b[0m\u001b[1;32m    669\u001b[0m \u001b[0;34m\u001b[0m\u001b[0m\n\u001b[1;32m    670\u001b[0m \u001b[0;34m\u001b[0m\u001b[0m\n",
            "\u001b[0;32m/usr/local/lib/python3.7/dist-packages/tensorflow/python/eager/def_function.py\u001b[0m in \u001b[0;36m__call__\u001b[0;34m(self, *args, **kwds)\u001b[0m\n\u001b[1;32m    826\u001b[0m     \u001b[0mtracing_count\u001b[0m \u001b[0;34m=\u001b[0m \u001b[0mself\u001b[0m\u001b[0;34m.\u001b[0m\u001b[0mexperimental_get_tracing_count\u001b[0m\u001b[0;34m(\u001b[0m\u001b[0;34m)\u001b[0m\u001b[0;34m\u001b[0m\u001b[0;34m\u001b[0m\u001b[0m\n\u001b[1;32m    827\u001b[0m     \u001b[0;32mwith\u001b[0m \u001b[0mtrace\u001b[0m\u001b[0;34m.\u001b[0m\u001b[0mTrace\u001b[0m\u001b[0;34m(\u001b[0m\u001b[0mself\u001b[0m\u001b[0;34m.\u001b[0m\u001b[0m_name\u001b[0m\u001b[0;34m)\u001b[0m \u001b[0;32mas\u001b[0m \u001b[0mtm\u001b[0m\u001b[0;34m:\u001b[0m\u001b[0;34m\u001b[0m\u001b[0;34m\u001b[0m\u001b[0m\n\u001b[0;32m--> 828\u001b[0;31m       \u001b[0mresult\u001b[0m \u001b[0;34m=\u001b[0m \u001b[0mself\u001b[0m\u001b[0;34m.\u001b[0m\u001b[0m_call\u001b[0m\u001b[0;34m(\u001b[0m\u001b[0;34m*\u001b[0m\u001b[0margs\u001b[0m\u001b[0;34m,\u001b[0m \u001b[0;34m**\u001b[0m\u001b[0mkwds\u001b[0m\u001b[0;34m)\u001b[0m\u001b[0;34m\u001b[0m\u001b[0;34m\u001b[0m\u001b[0m\n\u001b[0m\u001b[1;32m    829\u001b[0m       \u001b[0mcompiler\u001b[0m \u001b[0;34m=\u001b[0m \u001b[0;34m\"xla\"\u001b[0m \u001b[0;32mif\u001b[0m \u001b[0mself\u001b[0m\u001b[0;34m.\u001b[0m\u001b[0m_experimental_compile\u001b[0m \u001b[0;32melse\u001b[0m \u001b[0;34m\"nonXla\"\u001b[0m\u001b[0;34m\u001b[0m\u001b[0;34m\u001b[0m\u001b[0m\n\u001b[1;32m    830\u001b[0m       \u001b[0mnew_tracing_count\u001b[0m \u001b[0;34m=\u001b[0m \u001b[0mself\u001b[0m\u001b[0;34m.\u001b[0m\u001b[0mexperimental_get_tracing_count\u001b[0m\u001b[0;34m(\u001b[0m\u001b[0;34m)\u001b[0m\u001b[0;34m\u001b[0m\u001b[0;34m\u001b[0m\u001b[0m\n",
            "\u001b[0;32m/usr/local/lib/python3.7/dist-packages/tensorflow/python/eager/def_function.py\u001b[0m in \u001b[0;36m_call\u001b[0;34m(self, *args, **kwds)\u001b[0m\n\u001b[1;32m    860\u001b[0m       \u001b[0;31m# In this case we have not created variables on the first call. So we can\u001b[0m\u001b[0;34m\u001b[0m\u001b[0;34m\u001b[0m\u001b[0;34m\u001b[0m\u001b[0m\n\u001b[1;32m    861\u001b[0m       \u001b[0;31m# run the first trace but we should fail if variables are created.\u001b[0m\u001b[0;34m\u001b[0m\u001b[0;34m\u001b[0m\u001b[0;34m\u001b[0m\u001b[0m\n\u001b[0;32m--> 862\u001b[0;31m       \u001b[0mresults\u001b[0m \u001b[0;34m=\u001b[0m \u001b[0mself\u001b[0m\u001b[0;34m.\u001b[0m\u001b[0m_stateful_fn\u001b[0m\u001b[0;34m(\u001b[0m\u001b[0;34m*\u001b[0m\u001b[0margs\u001b[0m\u001b[0;34m,\u001b[0m \u001b[0;34m**\u001b[0m\u001b[0mkwds\u001b[0m\u001b[0;34m)\u001b[0m\u001b[0;34m\u001b[0m\u001b[0;34m\u001b[0m\u001b[0m\n\u001b[0m\u001b[1;32m    863\u001b[0m       \u001b[0;32mif\u001b[0m \u001b[0mself\u001b[0m\u001b[0;34m.\u001b[0m\u001b[0m_created_variables\u001b[0m\u001b[0;34m:\u001b[0m\u001b[0;34m\u001b[0m\u001b[0;34m\u001b[0m\u001b[0m\n\u001b[1;32m    864\u001b[0m         raise ValueError(\"Creating variables on a non-first call to a function\"\n",
            "\u001b[0;32m/usr/local/lib/python3.7/dist-packages/tensorflow/python/eager/function.py\u001b[0m in \u001b[0;36m__call__\u001b[0;34m(self, *args, **kwargs)\u001b[0m\n\u001b[1;32m   2941\u001b[0m        filtered_flat_args) = self._maybe_define_function(args, kwargs)\n\u001b[1;32m   2942\u001b[0m     return graph_function._call_flat(\n\u001b[0;32m-> 2943\u001b[0;31m         filtered_flat_args, captured_inputs=graph_function.captured_inputs)  # pylint: disable=protected-access\n\u001b[0m\u001b[1;32m   2944\u001b[0m \u001b[0;34m\u001b[0m\u001b[0m\n\u001b[1;32m   2945\u001b[0m   \u001b[0;34m@\u001b[0m\u001b[0mproperty\u001b[0m\u001b[0;34m\u001b[0m\u001b[0;34m\u001b[0m\u001b[0m\n",
            "\u001b[0;32m/usr/local/lib/python3.7/dist-packages/tensorflow/python/eager/function.py\u001b[0m in \u001b[0;36m_call_flat\u001b[0;34m(self, args, captured_inputs, cancellation_manager)\u001b[0m\n\u001b[1;32m   1917\u001b[0m       \u001b[0;31m# No tape is watching; skip to running the function.\u001b[0m\u001b[0;34m\u001b[0m\u001b[0;34m\u001b[0m\u001b[0;34m\u001b[0m\u001b[0m\n\u001b[1;32m   1918\u001b[0m       return self._build_call_outputs(self._inference_function.call(\n\u001b[0;32m-> 1919\u001b[0;31m           ctx, args, cancellation_manager=cancellation_manager))\n\u001b[0m\u001b[1;32m   1920\u001b[0m     forward_backward = self._select_forward_and_backward_functions(\n\u001b[1;32m   1921\u001b[0m         \u001b[0margs\u001b[0m\u001b[0;34m,\u001b[0m\u001b[0;34m\u001b[0m\u001b[0;34m\u001b[0m\u001b[0m\n",
            "\u001b[0;32m/usr/local/lib/python3.7/dist-packages/tensorflow/python/eager/function.py\u001b[0m in \u001b[0;36mcall\u001b[0;34m(self, ctx, args, cancellation_manager)\u001b[0m\n\u001b[1;32m    558\u001b[0m               \u001b[0minputs\u001b[0m\u001b[0;34m=\u001b[0m\u001b[0margs\u001b[0m\u001b[0;34m,\u001b[0m\u001b[0;34m\u001b[0m\u001b[0;34m\u001b[0m\u001b[0m\n\u001b[1;32m    559\u001b[0m               \u001b[0mattrs\u001b[0m\u001b[0;34m=\u001b[0m\u001b[0mattrs\u001b[0m\u001b[0;34m,\u001b[0m\u001b[0;34m\u001b[0m\u001b[0;34m\u001b[0m\u001b[0m\n\u001b[0;32m--> 560\u001b[0;31m               ctx=ctx)\n\u001b[0m\u001b[1;32m    561\u001b[0m         \u001b[0;32melse\u001b[0m\u001b[0;34m:\u001b[0m\u001b[0;34m\u001b[0m\u001b[0;34m\u001b[0m\u001b[0m\n\u001b[1;32m    562\u001b[0m           outputs = execute.execute_with_cancellation(\n",
            "\u001b[0;32m/usr/local/lib/python3.7/dist-packages/tensorflow/python/eager/execute.py\u001b[0m in \u001b[0;36mquick_execute\u001b[0;34m(op_name, num_outputs, inputs, attrs, ctx, name)\u001b[0m\n\u001b[1;32m     58\u001b[0m     \u001b[0mctx\u001b[0m\u001b[0;34m.\u001b[0m\u001b[0mensure_initialized\u001b[0m\u001b[0;34m(\u001b[0m\u001b[0;34m)\u001b[0m\u001b[0;34m\u001b[0m\u001b[0;34m\u001b[0m\u001b[0m\n\u001b[1;32m     59\u001b[0m     tensors = pywrap_tfe.TFE_Py_Execute(ctx._handle, device_name, op_name,\n\u001b[0;32m---> 60\u001b[0;31m                                         inputs, attrs, num_outputs)\n\u001b[0m\u001b[1;32m     61\u001b[0m   \u001b[0;32mexcept\u001b[0m \u001b[0mcore\u001b[0m\u001b[0;34m.\u001b[0m\u001b[0m_NotOkStatusException\u001b[0m \u001b[0;32mas\u001b[0m \u001b[0me\u001b[0m\u001b[0;34m:\u001b[0m\u001b[0;34m\u001b[0m\u001b[0;34m\u001b[0m\u001b[0m\n\u001b[1;32m     62\u001b[0m     \u001b[0;32mif\u001b[0m \u001b[0mname\u001b[0m \u001b[0;32mis\u001b[0m \u001b[0;32mnot\u001b[0m \u001b[0;32mNone\u001b[0m\u001b[0;34m:\u001b[0m\u001b[0;34m\u001b[0m\u001b[0;34m\u001b[0m\u001b[0m\n",
            "\u001b[0;31mKeyboardInterrupt\u001b[0m: "
          ]
        }
      ]
    },
    {
      "cell_type": "code",
      "metadata": {
        "id": "q2gZaQZ7_d59"
      },
      "source": [
        "detected_frames = [x[0] for x in model.predictions_to_scenes(single_frame_predictions, threshold= 0.01)][1:]"
      ],
      "execution_count": null,
      "outputs": []
    },
    {
      "cell_type": "code",
      "metadata": {
        "id": "QGtBchbDa-Ln"
      },
      "source": [
        "# model.predictions_to_scenes(single_frame_predictions, threshold= 0.001)"
      ],
      "execution_count": null,
      "outputs": []
    },
    {
      "cell_type": "code",
      "metadata": {
        "id": "jNvdDEyGAACi"
      },
      "source": [
        "# pr_curve(preds= detected_frames, gt= gt)"
      ],
      "execution_count": null,
      "outputs": []
    },
    {
      "cell_type": "code",
      "metadata": {
        "id": "XetOMIGWBxwx"
      },
      "source": [
        "precisions = [] \n",
        "recalls = []\n",
        "\n",
        "for threshold in [0.1, 0.2, 0.4, 0.6, 0.8, 0.9]:\n",
        "  try:\n",
        "    detected_frames = [x[0] for x in model.predictions_to_scenes(single_frame_predictions, threshold= threshold)][1:]\n",
        "    precision, recall = pr_curve(preds= detected_frames, gt= gt)\n",
        "    precisions.append(precision)\n",
        "    recalls.append(recall)\n",
        "  except:\n",
        "    pass\n",
        "\n",
        "plt.plot(recalls, precisions)\n",
        "plt.xlabel('Recall')\n",
        "plt.ylabel('Precision')\n",
        "plt.title(f'PR Curve for {video_name} video with TransNet V2')\n",
        "plt.savefig(f'{video_name}_TransNet')"
      ],
      "execution_count": null,
      "outputs": []
    },
    {
      "cell_type": "code",
      "metadata": {
        "id": "Ku9--RXLCe70"
      },
      "source": [
        ""
      ],
      "execution_count": null,
      "outputs": []
    }
  ]
}